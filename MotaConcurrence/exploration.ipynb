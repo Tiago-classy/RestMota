{
 "cells": [
  {
   "cell_type": "code",
   "execution_count": 9,
   "metadata": {},
   "outputs": [],
   "source": [
    "import requests\n",
    "res=requests.get(\"https://casinoland.pt\")"
   ]
  },
  {
   "cell_type": "code",
   "execution_count": 13,
   "metadata": {},
   "outputs": [
    {
     "name": "stdout",
     "output_type": "stream",
     "text": [
      "Collecting beautifulsoup4\n",
      "  Using cached beautifulsoup4-4.12.3-py3-none-any.whl.metadata (3.8 kB)\n",
      "Collecting soupsieve>1.2 (from beautifulsoup4)\n",
      "  Downloading soupsieve-2.6-py3-none-any.whl.metadata (4.6 kB)\n",
      "Using cached beautifulsoup4-4.12.3-py3-none-any.whl (147 kB)\n",
      "Downloading soupsieve-2.6-py3-none-any.whl (36 kB)\n",
      "Installing collected packages: soupsieve, beautifulsoup4\n",
      "Successfully installed beautifulsoup4-4.12.3 soupsieve-2.6\n"
     ]
    }
   ],
   "source": [
    "!pip install beautifulsoup4"
   ]
  },
  {
   "cell_type": "code",
   "execution_count": null,
   "metadata": {},
   "outputs": [],
   "source": [
    "#using bs4 pars text to html and save as html file\n",
    "import requests\n",
    "from bs4 import BeautifulSoup\n",
    "import os\n",
    "\n",
    "url = requests.get(\"https://casinoland.pt\")\n",
    "\n",
    "soup = BeautifulSoup(url.text, 'html.parser')\n",
    "with open('1point3acres.html', 'w', encoding='utf-8') as f:\n",
    "    f.write(soup.prettify())"
   ]
  },
  {
   "cell_type": "code",
   "execution_count": 18,
   "metadata": {},
   "outputs": [
    {
     "name": "stdout",
     "output_type": "stream",
     "text": [
      "URL: https://casinoland.pt\n",
      "Status Code: 200\n",
      "--------------------------------------------------\n"
     ]
    }
   ],
   "source": [
    "import requests\n",
    "\n",
    "def trace_redirects(url):\n",
    "    # Disable automatic redirects so we can track them\n",
    "    response = requests.get(url, allow_redirects=False)\n",
    "    \n",
    "    # Initialize list to store redirect chain\n",
    "    redirect_chain = [(url, response.status_code)]\n",
    "    \n",
    "    # Follow redirects manually\n",
    "    while response.is_redirect:\n",
    "        # Get the new location from headers\n",
    "        next_url = response.headers['Location']\n",
    "        \n",
    "        # If the location is relative, make it absolute\n",
    "        if next_url.startswith('/'):\n",
    "            from urllib.parse import urljoin\n",
    "            next_url = urljoin(url, next_url)\n",
    "            \n",
    "        # Make the next request\n",
    "        response = requests.get(next_url, allow_redirects=False)\n",
    "        \n",
    "        # Add to redirect chain\n",
    "        redirect_chain.append((next_url, response.status_code))\n",
    "    \n",
    "    # Print the redirect chain\n",
    "    for url, status_code in redirect_chain:\n",
    "        print(f\"URL: {url}\")\n",
    "        print(f\"Status Code: {status_code}\")\n",
    "        print(\"-\" * 50)\n",
    "\n",
    "# Example usage\n",
    "url = \"https://casinoland.pt\"  # Using the URL from your code\n",
    "trace_redirects(url)\n"
   ]
  },
  {
   "cell_type": "code",
   "execution_count": 19,
   "metadata": {},
   "outputs": [
    {
     "name": "stdout",
     "output_type": "stream",
     "text": [
      "URL: https://casinoland.pt\n",
      "Status Code: 200\n",
      "Cookies: {}\n",
      "--------------------------------------------------\n"
     ]
    }
   ],
   "source": [
    "import requests\n",
    "\n",
    "def trace_redirects_with_cookies(url):\n",
    "    session = requests.Session()\n",
    "    response = session.get(url, allow_redirects=False)\n",
    "    \n",
    "    redirect_chain = [(url, response.status_code, dict(response.cookies))]\n",
    "    \n",
    "    while response.is_redirect:\n",
    "        next_url = response.headers['Location']\n",
    "        if next_url.startswith('/'):\n",
    "            from urllib.parse import urljoin\n",
    "            next_url = urljoin(url, next_url)\n",
    "            \n",
    "        response = session.get(next_url, allow_redirects=False)\n",
    "        redirect_chain.append((next_url, response.status_code, dict(response.cookies)))\n",
    "    \n",
    "    # Print the redirect chain with cookies\n",
    "    for url, status_code, cookies in redirect_chain:\n",
    "        print(f\"URL: {url}\")\n",
    "        print(f\"Status Code: {status_code}\")\n",
    "        print(\"Cookies:\", cookies)\n",
    "        print(\"-\" * 50)\n",
    "\n",
    "# Example usage\n",
    "url = \"https://casinoland.pt\"\n",
    "trace_redirects_with_cookies(url)\n"
   ]
  }
 ],
 "metadata": {
  "kernelspec": {
   "display_name": "DNA",
   "language": "python",
   "name": "python3"
  },
  "language_info": {
   "codemirror_mode": {
    "name": "ipython",
    "version": 3
   },
   "file_extension": ".py",
   "mimetype": "text/x-python",
   "name": "python",
   "nbconvert_exporter": "python",
   "pygments_lexer": "ipython3",
   "version": "3.10.14"
  }
 },
 "nbformat": 4,
 "nbformat_minor": 2
}
